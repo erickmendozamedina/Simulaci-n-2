{
  "nbformat": 4,
  "nbformat_minor": 0,
  "metadata": {
    "colab": {
      "provenance": [],
      "authorship_tag": "ABX9TyOlDy4hZl/9MBwvWY0VX737",
      "include_colab_link": true
    },
    "kernelspec": {
      "name": "python3",
      "display_name": "Python 3"
    },
    "language_info": {
      "name": "python"
    }
  },
  "cells": [
    {
      "cell_type": "markdown",
      "metadata": {
        "id": "view-in-github",
        "colab_type": "text"
      },
      "source": [
        "<a href=\"https://colab.research.google.com/github/erickmendozamedina/Simulaci-n-2/blob/main/Comparaci%C3%B3n%20de%20algunos%20m%C3%A9todos%20Monte%20Carlo.ipynb\" target=\"_parent\"><img src=\"https://colab.research.google.com/assets/colab-badge.svg\" alt=\"Open In Colab\"/></a>"
      ]
    },
    {
      "cell_type": "markdown",
      "source": [
        "**Comparación de algunos métodos Monte Carlo **\n",
        "\n",
        "Estimar la integral de f(x) en (0, 1), donde f(x) = (exp(x) - 1)/(e - 1) por los métodos:\n",
        "\n",
        "a) Media Muestral\n",
        "\n",
        "b) Acierto y Error\n",
        "\n",
        "c) Muestreo Importancia\n",
        "\n",
        "d) Muestreo Estratificado\n",
        "\n",
        "Comparar los resultados en una tabla, incluyendo la razón de varianzas.\n",
        "\n",
        "Se resolverá la integral con cada uno de los métodos programados en python como se muestra a continuación."
      ],
      "metadata": {
        "id": "TFOGJw623FbK"
      }
    },
    {
      "cell_type": "code",
      "execution_count": 5,
      "metadata": {
        "colab": {
          "base_uri": "https://localhost:8080/"
        },
        "id": "xhhgIywl3A7U",
        "outputId": "3bcf359d-5d07-4730-c767-d0f7c5f22baa"
      },
      "outputs": [
        {
          "output_type": "stream",
          "name": "stdout",
          "text": [
            "Método de Monte Carlo - Media Muestra: 0.4188729981154468\n",
            "Método de Monte Carlo - Acierto y Error: 0.4191131675049783\n",
            "Muestreo de Importancia: 0.2904653105746674\n",
            "Muestreo Estratificado: 0.41802328694718693\n",
            "Razón de Varianzas: 1.0007054181794353\n"
          ]
        }
      ],
      "source": [
        "import numpy as np\n",
        "\n",
        "# Definir la función f(x)\n",
        "def f(x):\n",
        "    return (np.exp(x) - 1) / (np.exp(1) - 1)\n",
        "\n",
        "# Método de Monte Carlo - Media Muestra\n",
        "def monte_carlo_media_muestra(n):\n",
        "    # Generar 'n' números aleatorios uniformemente distribuidos en el intervalo [0, 1]\n",
        "    x = np.random.rand(n)\n",
        "    # Calcular el valor medio de f(x) evaluado en los números generados\n",
        "    integral = np.mean(f(x))\n",
        "    return integral\n",
        "\n",
        "# Método de Monte Carlo - Acierto y Error\n",
        "def monte_carlo_acierto_error(n):\n",
        "    # Generar 'n' números aleatorios uniformemente distribuidos en el intervalo [0, 1]\n",
        "    x = np.random.rand(n)\n",
        "    # Calcular f(x) para los números generados\n",
        "    y = f(x)\n",
        "    # Estimar la integral usando el promedio de f(x)\n",
        "    integral = np.sum(y) / n\n",
        "    # Calcular la varianza y el error de la estimación\n",
        "    integral_sq = np.sum(y**2) / n\n",
        "    var = integral_sq - (integral ** 2)\n",
        "    integral_error = np.sqrt(var / n)\n",
        "    return integral, integral_error\n",
        "\n",
        "# Muestreo de Importancia\n",
        "def muestreo_importancia(n):\n",
        "    # Generar 'n' números aleatorios con distribución exponencial con escala 1\n",
        "    x = np.random.exponential(scale=1, size=n)\n",
        "    # Calcular f(x) / g(x) para los números generados, donde g(x) es la distribución exponencial\n",
        "    y = f(x) / np.exp(x)\n",
        "    # Calcular el promedio de f(x) / g(x)\n",
        "    integral = np.mean(y)\n",
        "    return integral\n",
        "\n",
        "# Muestreo Estratificado\n",
        "def muestreo_estratificado(n):\n",
        "    np.random.seed(42)  # Establecer la semilla aleatoria para reproducibilidad\n",
        "    # Generar 'n' números aleatorios uniformemente distribuidos en [0, 1]\n",
        "    U = np.random.rand(n)\n",
        "    k = np.arange(0, n)\n",
        "    # Generar puntos estratificados\n",
        "    x = (U + k) / n\n",
        "    # Calcular f(x) para los puntos estratificados\n",
        "    y = f(x)\n",
        "    # Calcular el promedio de f(x)\n",
        "    integral = np.mean(y)\n",
        "    return integral\n",
        "\n",
        "# Número de muestras\n",
        "n = 100000\n",
        "\n",
        "# Calcular integrales usando cada método de Monte Carlo\n",
        "media_muestra = monte_carlo_media_muestra(n)\n",
        "acierto_error, error_acierto = monte_carlo_acierto_error(n)\n",
        "importancia = muestreo_importancia(n)\n",
        "estratificado = muestreo_estratificado(n)\n",
        "\n",
        "# Calcular la razón de varianzas\n",
        "razon_varianzas = error_acierto ** 2 / (np.var(f(np.random.rand(100000))) / 100000)\n",
        "\n",
        "# Imprimir resultados\n",
        "print(\"Método de Monte Carlo - Media Muestra:\", media_muestra)\n",
        "print(\"Método de Monte Carlo - Acierto y Error:\", acierto_error)\n",
        "print(\"Muestreo de Importancia:\", importancia)\n",
        "print(\"Muestreo Estratificado:\", estratificado)\n",
        "print(\"Razón de Varianzas:\", razon_varianzas)\n",
        "\n",
        "\n"
      ]
    }
  ]
}