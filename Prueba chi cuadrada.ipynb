{
  "nbformat": 4,
  "nbformat_minor": 0,
  "metadata": {
    "colab": {
      "provenance": [],
      "authorship_tag": "ABX9TyM6I+I9RCgOIIwp6LI1T5na",
      "include_colab_link": true
    },
    "kernelspec": {
      "name": "python3",
      "display_name": "Python 3"
    },
    "language_info": {
      "name": "python"
    }
  },
  "cells": [
    {
      "cell_type": "markdown",
      "metadata": {
        "id": "view-in-github",
        "colab_type": "text"
      },
      "source": [
        "<a href=\"https://colab.research.google.com/github/erickmendozamedina/Simulaci-n-2/blob/main/Prueba%20chi%20cuadrada.ipynb\" target=\"_parent\"><img src=\"https://colab.research.google.com/assets/colab-badge.svg\" alt=\"Open In Colab\"/></a>"
      ]
    },
    {
      "cell_type": "code",
      "source": [
        "#Ejercicio 3\n",
        "from scipy.stats import chi2  # Importamos la función chi2 desde scipy.stats\n",
        "import math\n",
        "\n",
        "datos_nuevos = [0.38, 0.33, 0.25, 0.05, 0.69, 0.35, 0.98, 0.52, 0.12, 0.79,  # Definimos una lista de datos\n",
        "         0.50, 0.46, 0.95, 0.42, 0.49, 0.11, 0.78, 0.34, 0.02, 0.43,\n",
        "         0.07, 0.50, 0.05, 0.91, 0.77, 0.18, 0.21, 0.04, 0.17, 0.62,\n",
        "         0.91, 0.36, 0.48, 0.88, 0.52, 0.76, 0.99, 0.73, 0.82, 0.90]\n",
        "\n",
        "alpha = float(input(\"Introduce el nivel de aceptación (como porcentaje decimal): \"))  # Solicitamos al usuario que ingrese el nivel de aceptación\n",
        "\n",
        "if 0 < max(datos_nuevos) < 1:  # Verificamos si los datos están normalizados\n",
        "    datos_normalizados = datos_nuevos\n",
        "else:\n",
        "    longitud = len(str(int(max(datos_nuevos))))  # Calculamos la longitud del máximo de los datos\n",
        "    datos_normalizados = [elemento / (10**longitud) for elemento in datos_nuevos]  # Normalizamos los datos\n",
        "\n",
        "T = len(datos_nuevos)  # Calculamos la longitud de los datos\n",
        "n = 5  # Definimos 5 clases\n",
        "gl = n - 1  # Calculamos los grados de libertad\n",
        "E = T / n  # Calculamos el número esperado en cada clase\n",
        "clasediv = 1 / n  # Calculamos la división de la clase\n",
        "chicuadrada = 0  # Inicializamos el valor del estadístico chi-cuadrada\n",
        "\n",
        "for i in range(n):  # Iteramos sobre el número de clases\n",
        "    contador = 0\n",
        "    for j in range(T):  # Iteramos sobre los datos\n",
        "        if (clasediv * (i)) <= datos_normalizados[j] < (clasediv * (i + 1)):  # Verificamos si el dato pertenece a la clase actual\n",
        "            contador += 1  # Incrementamos el contador\n",
        "    chicuadrada = chicuadrada + (contador - E)**2  # Calculamos el valor del estadístico chi-cuadrada\n",
        "\n",
        "chicuadrada = chicuadrada / E  # Obtenemos el valor final del estadístico\n",
        "valor_critico = chi2.ppf(alpha, gl)  # Calculamos el valor crítico\n",
        "\n",
        "print(\"El número de clases es:\", n)  # Imprimimos el número de clases\n",
        "print(\"El valor del estadístico es:\", chicuadrada)  # Imprimimos el valor del estadístico\n",
        "print(\"El valor crítico es:\", valor_critico)  # Imprimimos el valor crítico\n",
        "\n",
        "if chicuadrada <= valor_critico:  # Verificamos si el estadístico es menor o igual al valor crítico\n",
        "    print(\"Dado que el valor del estadístico es menor o igual al valor crítico, no rechazamos H_0, es decir, no hay diferencia entre la distribución de la muestra y la distribución teórica.\")\n",
        "else:\n",
        "    print(\"Dado que el valor del estadístico es mayor que el valor crítico, rechazamos H_0, es decir, los datos proporcionan suficiente evidencia para concluir que la hipótesis nula es poco probable.\")\n",
        "\n"
      ],
      "metadata": {
        "colab": {
          "base_uri": "https://localhost:8080/"
        },
        "id": "QdHs6VUf1jgQ",
        "outputId": "65d1bef4-44eb-4757-f5c9-e66772c9c62a"
      },
      "execution_count": 5,
      "outputs": [
        {
          "output_type": "stream",
          "name": "stdout",
          "text": [
            "Introduce el nivel de aceptación (como porcentaje decimal): 0.95\n",
            "El número de clases es: 5\n",
            "El valor del estadístico es: 0.5\n",
            "El valor crítico es: 9.487729036781154\n",
            "Dado que el valor del estadístico es menor o igual al valor crítico, no rechazamos H_0, es decir, no hay diferencia entre la distribución de la muestra y la distribución teórica.\n"
          ]
        }
      ]
    },
    {
      "cell_type": "code",
      "execution_count": 6,
      "metadata": {
        "colab": {
          "base_uri": "https://localhost:8080/"
        },
        "id": "sqY9BtRI0NPv",
        "outputId": "863c387d-2ada-43f4-f8ea-d56b5768c27a"
      },
      "outputs": [
        {
          "output_type": "stream",
          "name": "stdout",
          "text": [
            "Introduce el nivel de aceptación (como porcentaje decimal): 0.95\n",
            "El número de clases es: 5\n",
            "El valor del estadístico es: 4.2\n",
            "El valor crítico es: 9.487729036781154\n",
            "Dado que el valor del estadístico es menor o igual al valor crítico, no rechazamos H_0, es decir, no hay diferencia entre la distribución de la muestra y la distribución teórica.\n"
          ]
        }
      ],
      "source": [
        "#Ejercicio 4\n",
        "from scipy.stats import chi2  # Importamos la función chi2 desde scipy.stats\n",
        "import math\n",
        "\n",
        "datos = [0.8797, 0.3884, 0.6289, 0.8750, 0.5999, 0.8589, 0.9996, 0.2415, 0.3808, 0.9606,  # Definimos una lista de datos\n",
        "        0.9848, 0.3469, 0.7977, 0.5844, 0.8147, 0.6431, 0.7387, 0.5613, 0.0318, 0.7401,\n",
        "        0.4557, 0.1592, 0.8536, 0.8846, 0.3410, 0.1492, 0.8681, 0.5291, 0.3188, 0.5992,\n",
        "        0.9170, 0.2204, 0.5991, 0.5461, 0.5739, 0.3254, 0.0856, 0.2258, 0.4603, 0.5027,\n",
        "        0.8376, 0.6235, 0.3681, 0.2088, 0.1525, 0.2006, 0.4720, 0.4272, 0.6360, 0.0954]\n",
        "\n",
        "# Solicitamos al usuario que ingrese el nivel de aceptación\n",
        "alpha = float(input(\"Introduce el nivel de aceptación (como porcentaje decimal): \"))\n",
        "\n",
        "# Verificamos si los datos están normalizados\n",
        "if 0 < max(datos) < 1:\n",
        "    datos_normalizados = datos\n",
        "else:\n",
        "    longitud = len(str(int(max(datos))))  # Calculamos la longitud del máximo de los datos\n",
        "    datos_normalizados = [elemento / (10**longitud) for elemento in datos]  # Normalizamos los datos\n",
        "\n",
        "# Calculamos la longitud de los datos\n",
        "T = len(datos)\n",
        "\n",
        "# Definimos el número de clases\n",
        "n = math.floor(math.sqrt(T)) - 2\n",
        "\n",
        "# Calculamos los grados de libertad\n",
        "gl = n - 1\n",
        "\n",
        "# Calculamos el número esperado en cada clase\n",
        "E = T / n\n",
        "\n",
        "# Calculamos la división de la clase\n",
        "clasediv = 1 / n\n",
        "\n",
        "# Inicializamos el valor del estadístico chi-cuadrada\n",
        "chicuadrada = 0\n",
        "\n",
        "# Iteramos sobre el número de clases\n",
        "for i in range(n):\n",
        "    contador = 0\n",
        "    # Iteramos sobre los datos\n",
        "    for j in range(T):\n",
        "        # Verificamos si el dato pertenece a la clase actual\n",
        "        if (clasediv * (i)) <= datos_normalizados[j] < (clasediv * (i + 1)):\n",
        "            # Incrementamos el contador\n",
        "            contador += 1\n",
        "    # Calculamos el valor del estadístico chi-cuadrada\n",
        "    chicuadrada = chicuadrada + (contador - E)**2\n",
        "\n",
        "# Obtenemos el valor final del estadístico\n",
        "chicuadrada = chicuadrada / E\n",
        "\n",
        "# Calculamos el valor crítico\n",
        "valor_critico = chi2.ppf(alpha, gl)\n",
        "\n",
        "# Imprimimos el número de clases\n",
        "print(\"El número de clases es:\", n)\n",
        "\n",
        "# Imprimimos el valor del estadístico\n",
        "print(\"El valor del estadístico es:\", chicuadrada)\n",
        "\n",
        "# Imprimimos el valor crítico\n",
        "print(\"El valor crítico es:\", valor_critico)\n",
        "\n",
        "# Verificamos si el estadístico es menor o igual al valor crítico\n",
        "if chicuadrada <= valor_critico:\n",
        "    # No rechazamos H_0 si el estadístico es menor o igual al valor crítico\n",
        "    print(\"Dado que el valor del estadístico es menor o igual al valor crítico, no rechazamos H_0, es decir, no hay diferencia entre la distribución de la muestra y la distribución teórica.\")\n",
        "else:\n",
        "    # Rechazamos H_0 si el estadístico es mayor que el valor crítico\n",
        "    print(\"Dado que el valor del estadístico es mayor que el valor crítico, rechazamos H_0, es decir, los datos proporcionan suficiente evidencia para concluir que la hipótesis nula es poco probable.\")\n",
        "\n",
        "\n"
      ]
    }
  ]
}