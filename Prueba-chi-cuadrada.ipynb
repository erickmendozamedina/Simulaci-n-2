{
  "nbformat": 4,
  "nbformat_minor": 0,
  "metadata": {
    "colab": {
      "provenance": [],
      "authorship_tag": "ABX9TyOeuDxP7l77Mak7o4FOr93B",
      "include_colab_link": true
    },
    "kernelspec": {
      "name": "python3",
      "display_name": "Python 3"
    },
    "language_info": {
      "name": "python"
    }
  },
  "cells": [
    {
      "cell_type": "markdown",
      "metadata": {
        "id": "view-in-github",
        "colab_type": "text"
      },
      "source": [
        "<a href=\"https://colab.research.google.com/github/erickmendozamedina/Simulaci-n-2/blob/main/Prueba-chi-cuadrada.ipynb\" target=\"_parent\"><img src=\"https://colab.research.google.com/assets/colab-badge.svg\" alt=\"Open In Colab\"/></a>"
      ]
    },
    {
      "cell_type": "code",
      "execution_count": 2,
      "metadata": {
        "colab": {
          "base_uri": "https://localhost:8080/"
        },
        "id": "UUldAx7SSsno",
        "outputId": "152879a9-cc5f-4baf-8c35-c651a5cd482b"
      },
      "outputs": [
        {
          "output_type": "stream",
          "name": "stdout",
          "text": [
            "Estadístico chi-cuadrada: 0.27157465150403504\n",
            "Valor p: 0.873028283380073\n",
            "Grados de libertad: 2\n",
            "Valores esperados:\n",
            "[[10.43478261 18.91304348 30.65217391]\n",
            " [ 5.56521739 10.08695652 16.34782609]]\n",
            "No se rechaza la hipótesis nula: no hay suficiente evidencia para sugerir que las variables no son independientes.\n"
          ]
        }
      ],
      "source": [
        "import numpy as np\n",
        "from scipy.stats import chi2_contingency\n",
        "\n",
        "# Definir los datos de ejemplo\n",
        "observed = np.array([[10, 20, 30],\n",
        "                     [6,  9,  17]])\n",
        "\n",
        "# Nivel de significancia\n",
        "alpha = 0.05  # Por ejemplo, nivel de significancia del 5%\n",
        "\n",
        "# Realizar la prueba chi-cuadrada\n",
        "chi2, p, dof, expected = chi2_contingency(observed)\n",
        "\n",
        "# Imprimir los resultados\n",
        "print(\"Estadístico chi-cuadrada:\", chi2)\n",
        "print(\"Valor p:\", p)\n",
        "print(\"Grados de libertad:\", dof)\n",
        "print(\"Valores esperados:\")\n",
        "print(expected)\n",
        "\n",
        "# Comprobar si se rechaza la hipótesis nula\n",
        "if p < alpha:\n",
        "    print(\"Se rechaza la hipótesis nula: hay evidencia suficiente para sugerir que las variables no son independientes.\")\n",
        "else:\n",
        "    print(\"No se rechaza la hipótesis nula: no hay suficiente evidencia para sugerir que las variables no son independientes.\")\n",
        "\n"
      ]
    }
  ]
}