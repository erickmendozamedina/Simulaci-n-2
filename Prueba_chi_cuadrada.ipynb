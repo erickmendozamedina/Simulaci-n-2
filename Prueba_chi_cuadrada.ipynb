{
  "nbformat": 4,
  "nbformat_minor": 0,
  "metadata": {
    "colab": {
      "provenance": [],
      "authorship_tag": "ABX9TyN1CoPgYUpLI+PQRyBH31Pa",
      "include_colab_link": true
    },
    "kernelspec": {
      "name": "python3",
      "display_name": "Python 3"
    },
    "language_info": {
      "name": "python"
    }
  },
  "cells": [
    {
      "cell_type": "markdown",
      "metadata": {
        "id": "view-in-github",
        "colab_type": "text"
      },
      "source": [
        "<a href=\"https://colab.research.google.com/github/erickmendozamedina/Simulaci-n-2/blob/main/Prueba_chi_cuadrada.ipynb\" target=\"_parent\"><img src=\"https://colab.research.google.com/assets/colab-badge.svg\" alt=\"Open In Colab\"/></a>"
      ]
    },
    {
      "cell_type": "code",
      "source": [
        "# Código del ejercicio 5 para la elaboración del ejercicio 3\n",
        "# Mendoza Medina Erick\n",
        "\n",
        "from scipy.stats import chi2  # Importamos la función chi2 desde scipy.stats\n",
        "import math\n",
        "\n",
        "datos_nuevos = [0.38, 0.33, 0.25, 0.05, 0.69, 0.35, 0.98, 0.52, 0.12, 0.79,  # Definimos la lista de datos nuevos\n",
        "         0.50, 0.46, 0.95, 0.42, 0.49, 0.11, 0.78, 0.34, 0.02, 0.43,\n",
        "         0.07, 0.50, 0.05, 0.91, 0.77, 0.18, 0.21, 0.04, 0.17, 0.62,\n",
        "         0.91, 0.36, 0.48, 0.88, 0.52, 0.76, 0.99, 0.73, 0.82, 0.90]\n",
        "\n",
        "a = float(input(\"Introducir el nivel de significacia en decimal: \"))  # Solicitamos al usuario que ingrese el nivel de significancia\n",
        "\n",
        "if 0 < max(datos_nuevos) < 1:  # Verificamos si los datos están normalizados\n",
        "    datos_norm = datos_nuevos\n",
        "else:\n",
        "    l = len(str(int(max(datos_nuevos))))  # Calculamos la longitud del máximo de los datos\n",
        "    datos_norm = [e / (10**l) for e in datos_nuevos]  # Normalizamos los datos en caso de ser necesario\n",
        "\n",
        "b = len(datos_nuevos)  # Calculamos la longitud de los datos\n",
        "c = 5  # Definimos 5 clases que son las que usaremos para este ejercicio\n",
        "grados_lib = c - 1  # Calculamos los grados de libertad\n",
        "exp = b / c  # Calculamos el número esperado en cada clase\n",
        "div = 1 / c  # Calculamos la división de la clase\n",
        "chi = 0  # Inicializamos el valor del estadístico\n",
        "\n",
        "for i in range(c):  # Hacemos el ciclo sobre el número de clases\n",
        "    cont = 0\n",
        "    for j in range(b):  # Hacemos el ciclo sobre los datos\n",
        "        if (div * (i)) <= datos_norm[j] < (div * (i + 1)):  # Verificamos si el dato pertenece a la clase actual\n",
        "            cont += 1  # Incrementamos el contador\n",
        "    chi = chi + (cont - exp)**2  # Calculamos el valor del estadístico\n",
        "\n",
        "chi = chi / exp  # Obtenemos el valor final del estadístico\n",
        "vc = chi2.ppf(a, grados_lib)  # Calculamos el valor crítico\n",
        "\n",
        "print(\"El número de clases usadas son:\", c)  # Imprimimos el número de clases\n",
        "print(\"El valor del estadístico chi-cuadrada es:\", chi)  # Imprimimos el valor del estadístico\n",
        "print(\"El valor crítico es:\", vc)  # Imprimimos el valor crítico\n",
        "\n",
        "if chi <= vc:  # Verificamos si el estadístico es menor o igual al valor crítico\n",
        "    print(\"Dado que el valor del estadístico es menor o igual al valor crítico, no podemos rechazar la hipotesis nula\")\n",
        "else:\n",
        "    print(\"Dado que el valor del estadístico es mayor que el valor crítico, rechazamos la hipotesis nula\")\n",
        "\n"
      ],
      "metadata": {
        "colab": {
          "base_uri": "https://localhost:8080/"
        },
        "id": "QdHs6VUf1jgQ",
        "outputId": "6858bc3e-b535-44e2-cef1-9a28b6847c1b"
      },
      "execution_count": 3,
      "outputs": [
        {
          "output_type": "stream",
          "name": "stdout",
          "text": [
            "Introducir el nivel de significacia en decimal: 0.95\n",
            "El número de clases usadas son: 5\n",
            "El valor del estadístico chi-cuadrada es: 0.5\n",
            "El valor crítico es: 9.487729036781154\n",
            "Dado que el valor del estadístico es menor o igual al valor crítico, no podemos rechazar la hipotesis nula\n"
          ]
        }
      ]
    },
    {
      "cell_type": "code",
      "execution_count": 4,
      "metadata": {
        "colab": {
          "base_uri": "https://localhost:8080/"
        },
        "id": "sqY9BtRI0NPv",
        "outputId": "09d4a111-a353-4681-d4ea-3e93a93b67c8"
      },
      "outputs": [
        {
          "output_type": "stream",
          "name": "stdout",
          "text": [
            "Introduce el nivel de significancia en decimal: 0.95\n",
            "El número de clases dado son: 5\n",
            "El valor del estadístico es: 4.2\n",
            "El valor crítico es: 9.487729036781154\n",
            "Dado que el valor del estadístico es menor o igual al valor crítico, no podemos rechazar la hipotesis nula\n"
          ]
        }
      ],
      "source": [
        "# Código del ejercicio 5 para la elaboración del ejercicio 4\n",
        "# Mendoza Medina Erick\n",
        "\n",
        "from scipy.stats import chi2  # Importamos la función chi2 desde scipy.stats\n",
        "import math\n",
        "\n",
        "datos_nuevos = [0.8797, 0.3884, 0.6289, 0.8750, 0.5999, 0.8589, 0.9996, 0.2415, 0.3808, 0.9606,  # Definimos la lista de datos\n",
        "        0.9848, 0.3469, 0.7977, 0.5844, 0.8147, 0.6431, 0.7387, 0.5613, 0.0318, 0.7401,\n",
        "        0.4557, 0.1592, 0.8536, 0.8846, 0.3410, 0.1492, 0.8681, 0.5291, 0.3188, 0.5992,\n",
        "        0.9170, 0.2204, 0.5991, 0.5461, 0.5739, 0.3254, 0.0856, 0.2258, 0.4603, 0.5027,\n",
        "        0.8376, 0.6235, 0.3681, 0.2088, 0.1525, 0.2006, 0.4720, 0.4272, 0.6360, 0.0954]\n",
        "\n",
        "# Solicitamos al usuario que ingrese el nivel de significancia\n",
        "a = float(input(\"Introduce el nivel de significancia en decimal: \"))\n",
        "\n",
        "# Verificamos si los datos están normalizados\n",
        "if 0 < max(datos_nuevos) < 1:\n",
        "    datos_norm = datos_nuevos\n",
        "else:\n",
        "    l = len(str(int(max(datos_nuevos))))  # Calculamos la longitud del máximo de los datos\n",
        "    datos_norm = [e / (10**l) for e in datos_nuevos]  # Normalizamos los datos en caso de ser necesario\n",
        "\n",
        "# Calculamos la longitud de los datos\n",
        "l = len(datos_nuevos)\n",
        "\n",
        "# Definimos el número de clases, que para este ejercicio igual seran 5\n",
        "c = math.floor(math.sqrt(l)) - 2\n",
        "\n",
        "# Calculamos los grados de libertad\n",
        "grados_lib = c - 1\n",
        "\n",
        "# Calculamos el número esperado en cada clase\n",
        "exp = l / c\n",
        "\n",
        "# Calculamos la división de la clase\n",
        "div = 1 / c\n",
        "\n",
        "# Inicializamos el valor del estadístico\n",
        "chi = 0\n",
        "\n",
        "# Hacemos el ciclo sobre el número de clases\n",
        "for i in range(c):\n",
        "    cont = 0\n",
        "    # Hacemos el ciclo sobre los datos\n",
        "    for j in range(l):\n",
        "        # Verificamos si el dato pertenece a la clase actual\n",
        "        if (div * (i)) <= datos_norm[j] < (div * (i + 1)):\n",
        "            # Incrementamos el contador\n",
        "            cont += 1\n",
        "    # Calculamos el valor del estadístico\n",
        "    chi = chi + (cont - exp)**2\n",
        "\n",
        "# Obtenemos el valor final del estadístico\n",
        "chi = chi / exp\n",
        "\n",
        "# Calculamos el valor crítico\n",
        "vc = chi2.ppf(a, grados_lib)\n",
        "\n",
        "# Imprimimos el número de clases\n",
        "print(\"El número de clases dado son:\", c)\n",
        "\n",
        "# Imprimimos el valor del estadístico\n",
        "print(\"El valor del estadístico es:\", chi)\n",
        "\n",
        "# Imprimimos el valor crítico\n",
        "print(\"El valor crítico es:\", vc)\n",
        "\n",
        "# Verificamos si el estadístico es menor o igual al valor crítico\n",
        "if chi <= vc:\n",
        "    # No rechazamos H_0 si el estadístico es menor o igual al valor crítico\n",
        "    print(\"Dado que el valor del estadístico es menor o igual al valor crítico, no podemos rechazar la hipotesis nula\")\n",
        "else:\n",
        "    # Rechazamos H_0 si el estadístico es mayor que el valor crítico\n",
        "    print(\"Dado que el valor del estadístico es mayor que el valor crítico, rechazamos la hipotesis nula\")\n",
        "\n",
        "\n"
      ]
    }
  ]
}