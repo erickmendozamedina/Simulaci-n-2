{
  "nbformat": 4,
  "nbformat_minor": 0,
  "metadata": {
    "colab": {
      "provenance": [],
      "authorship_tag": "ABX9TyOCJPDnMT3G2u3SKXkluFOj",
      "include_colab_link": true
    },
    "kernelspec": {
      "name": "python3",
      "display_name": "Python 3"
    },
    "language_info": {
      "name": "python"
    }
  },
  "cells": [
    {
      "cell_type": "markdown",
      "metadata": {
        "id": "view-in-github",
        "colab_type": "text"
      },
      "source": [
        "<a href=\"https://colab.research.google.com/github/erickmendozamedina/Simulaci-n-2/blob/main/Serpientes%20y%20escaleras.ipynb\" target=\"_parent\"><img src=\"https://colab.research.google.com/assets/colab-badge.svg\" alt=\"Open In Colab\"/></a>"
      ]
    },
    {
      "cell_type": "markdown",
      "source": [
        "**Serpientes y escaleras**\n",
        "\n",
        "Resolver de manera analítica y por simulación.\n",
        "\n",
        "Las instrucciones son las tradicionales, se juega con un dado justo de 6 caras.\n",
        "\n",
        "Sea N el número de lanzamientos requerido para alcanzar el final del juego (llegar a la casilla final).\n",
        "\n",
        "Estimar el valor esperado de N, analíticamente y por simulación.\n",
        "\n",
        "Comentar su opinión sobre el uso de la simulación para resolver este problema.\n",
        "\n",
        "Se solucionará el problema mediante un código en python de la siguiente manera:"
      ],
      "metadata": {
        "id": "DOz_CYve7_eG"
      }
    },
    {
      "cell_type": "code",
      "execution_count": 2,
      "metadata": {
        "colab": {
          "base_uri": "https://localhost:8080/"
        },
        "id": "8QjLzwW-7-Zn",
        "outputId": "f29d6b9d-f06f-4004-afa4-2057815d526b"
      },
      "outputs": [
        {
          "output_type": "stream",
          "name": "stdout",
          "text": [
            "Valor esperado de lanzamientos requeridos: 7.06367\n"
          ]
        }
      ],
      "source": [
        "import numpy as np\n",
        "\n",
        "# Función para simular el lanzamiento de un dado\n",
        "def lanzar_dado():\n",
        "    return np.random.randint(1, 7)  # Genera un número aleatorio entre 1 y 6 (ambos inclusive)\n",
        "\n",
        "# Función para simular el juego de serpientes y escaleras\n",
        "def jugar_juego():\n",
        "    # Inicializa la posición del jugador en la casilla 0\n",
        "    posicion_actual = 0\n",
        "    # Contador de lanzamientos\n",
        "    lanzamientos = 0\n",
        "\n",
        "    while posicion_actual < 20:\n",
        "        # Lanzar el dado\n",
        "        dado = lanzar_dado()\n",
        "        # Mover la posición según el resultado del dado\n",
        "        posicion_actual += dado\n",
        "        # Comprobar si la nueva posición está en una escalera o serpiente y ajustarla\n",
        "        if posicion_actual == 3:\n",
        "            posicion_actual = 11\n",
        "        elif posicion_actual == 15:\n",
        "            posicion_actual = 19\n",
        "        elif posicion_actual == 17:\n",
        "            posicion_actual = 10\n",
        "        elif posicion_actual == 13:\n",
        "            posicion_actual = 4\n",
        "        # Incrementar el contador de lanzamientos\n",
        "        lanzamientos += 1\n",
        "\n",
        "    return lanzamientos\n",
        "\n",
        "# Número de simulaciones\n",
        "num_simulaciones = 100000\n",
        "# Lista para almacenar los resultados de cada simulación\n",
        "resultados = []\n",
        "\n",
        "# Realizar las simulaciones\n",
        "for _ in range(num_simulaciones):\n",
        "    # Jugar el juego y obtener el número de lanzamientos requeridos\n",
        "    lanzamientos = jugar_juego()\n",
        "    # Agregar el resultado a la lista de resultados\n",
        "    resultados.append(lanzamientos)\n",
        "\n",
        "# Calcular el valor esperado de lanzamientos requeridos\n",
        "valor_esperado = np.mean(resultados)\n",
        "\n",
        "# Imprimir el valor esperado calculado\n",
        "print(\"Valor esperado de lanzamientos requeridos:\", valor_esperado)\n"
      ]
    },
    {
      "cell_type": "markdown",
      "source": [
        "El uso de simulación para resolver este problema es una excelente opción por varias razones.\n",
        "\n",
        "Primero, el problema del juego de serpientes y escaleras tiene una estructura clara y bien definida, lo que lo hace adecuado para la simulación. Podemos modelar el juego con reglas simples y utilizar la aleatoriedad del lanzamiento del dado para simular el movimiento del jugador en el tablero.\n",
        "\n",
        "Segundo, la simulación nos permite obtener una estimación del valor esperado de lanzamientos requeridos para alcanzar la casilla final de manera rápida y eficiente. Aunque podríamos resolver este problema analíticamente mediante un enfoque probabilístico, la simulación ofrece una alternativa práctica, especialmente cuando las reglas del juego son relativamente simples y no hay restricciones complejas.\n",
        "\n",
        "Además, la simulación nos permite explorar diferentes escenarios y ajustar el modelo fácilmente si queremos considerar variaciones en las reglas del juego o en las condiciones iniciales. Por ejemplo, podríamos modificar el tablero de juego o cambiar el número de caras del dado y ver cómo afecta el resultado esperado.\n",
        "\n",
        "En resumen, el uso de la simulación para resolver este problema proporciona una solución robusta y flexible que puede adaptarse a diferentes situaciones y requerimientos, y ofrece una forma intuitiva de abordar problemas de este tipo."
      ],
      "metadata": {
        "id": "sloZWfh4-R_W"
      }
    }
  ]
}