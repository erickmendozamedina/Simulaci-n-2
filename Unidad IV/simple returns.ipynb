{
  "cells": [
    {
      "cell_type": "code",
      "execution_count": null,
      "id": "16137154",
      "metadata": {
        "id": "16137154"
      },
      "outputs": [],
      "source": [
        "import numpy as np\n",
        "import matplotlib.pyplot as plt\n",
        "import pandas as pd\n",
        "import yfinance as yf\n",
        "import datetime"
      ]
    },
    {
      "cell_type": "code",
      "execution_count": null,
      "id": "c9aaedee",
      "metadata": {
        "id": "c9aaedee"
      },
      "outputs": [],
      "source": [
        "ticker='PG'\n",
        "start = datetime.datetime(1995,1,1)\n",
        "end = datetime.datetime(2017,3,23)\n",
        "\n",
        "try:\n",
        "    data = yf.download(ticker, start=start, end=end)['Adj Close']\n",
        "    PG = pd.DataFrame(data)\n",
        "    #data.columns = [ticker]\n",
        "    #print(data.head())\n",
        "except Exception as e:\n",
        "    print(f\"Ocurrio un error al intentar descargar los datos:{e}\")"
      ]
    },
    {
      "cell_type": "code",
      "execution_count": null,
      "id": "ad51b9c0",
      "metadata": {
        "id": "ad51b9c0"
      },
      "outputs": [],
      "source": [
        "PG.head()"
      ]
    },
    {
      "cell_type": "code",
      "execution_count": null,
      "id": "e1a69adf",
      "metadata": {
        "id": "e1a69adf"
      },
      "outputs": [],
      "source": [
        "PG.tail()"
      ]
    },
    {
      "cell_type": "markdown",
      "id": "eee8bcf8",
      "metadata": {
        "id": "eee8bcf8"
      },
      "source": [
        "Simple rate of return"
      ]
    },
    {
      "cell_type": "markdown",
      "id": "b05e5ea6",
      "metadata": {
        "id": "b05e5ea6"
      },
      "source": [
        "$$\\frac{P_1-P_0}{P_0}=\\frac{P_1}{P_0}-1$$"
      ]
    },
    {
      "cell_type": "code",
      "execution_count": null,
      "id": "2a09a138",
      "metadata": {
        "id": "2a09a138"
      },
      "outputs": [],
      "source": [
        "PG['simple_return'] = (PG['Adj Close'] / PG['Adj Close'].shift(1) - 1)"
      ]
    },
    {
      "cell_type": "code",
      "source": [],
      "metadata": {
        "id": "XCh_ANRs7MtI"
      },
      "id": "XCh_ANRs7MtI",
      "execution_count": null,
      "outputs": []
    },
    {
      "cell_type": "code",
      "execution_count": null,
      "id": "18d72a16",
      "metadata": {
        "id": "18d72a16"
      },
      "outputs": [],
      "source": [
        "print(PG['simple_return'])"
      ]
    },
    {
      "cell_type": "code",
      "execution_count": null,
      "id": "165bad50",
      "metadata": {
        "id": "165bad50"
      },
      "outputs": [],
      "source": [
        "PG['simple_return'].plot(figsize=(8,5))"
      ]
    },
    {
      "cell_type": "code",
      "execution_count": null,
      "id": "aa4c90b1",
      "metadata": {
        "id": "aa4c90b1"
      },
      "outputs": [],
      "source": [
        "avg_returns_d = PG['simple_return'].mean()\n",
        "avg_returns_d\n",
        "\n",
        "# Este es el retorno diario"
      ]
    },
    {
      "cell_type": "code",
      "execution_count": null,
      "id": "8366f938",
      "metadata": {
        "id": "8366f938"
      },
      "outputs": [],
      "source": [
        "# El retorno anual, se calcula no multiplicando por 365, pues no hay actividad diaria realmente.\n",
        "# Por quitar días sabado, domingo y feriados.\n",
        "# Lo correcto es 250, a veces 251 o 252\n",
        "# Así, el retorno anual es"
      ]
    },
    {
      "cell_type": "code",
      "execution_count": null,
      "id": "d52d8c2c",
      "metadata": {
        "id": "d52d8c2c"
      },
      "outputs": [],
      "source": [
        "avg_returns_a = PG['simple_return'].mean() * 250\n",
        "avg_returns_a"
      ]
    },
    {
      "cell_type": "code",
      "execution_count": null,
      "id": "351adbcb",
      "metadata": {
        "id": "351adbcb"
      },
      "outputs": [],
      "source": [
        "print(str(round(avg_returns_a, 5) * 100) + '%')"
      ]
    },
    {
      "cell_type": "code",
      "execution_count": null,
      "id": "90d3f995",
      "metadata": {
        "id": "90d3f995"
      },
      "outputs": [],
      "source": [
        "PG['log_return'] = np.log10(PG['Adj Close'] / PG['Adj Close'].shift(1))"
      ]
    },
    {
      "cell_type": "code",
      "source": [
        "print(PG['log_return'])"
      ],
      "metadata": {
        "id": "eDpcIsV57YG_"
      },
      "id": "eDpcIsV57YG_",
      "execution_count": null,
      "outputs": []
    },
    {
      "cell_type": "code",
      "source": [
        "PG['log_return'].plot(figsize=(8,5))"
      ],
      "metadata": {
        "id": "RsdDnF_67arA"
      },
      "id": "RsdDnF_67arA",
      "execution_count": null,
      "outputs": []
    },
    {
      "cell_type": "code",
      "source": [
        "avg_returns_d = PG['log_return'].mean()\n",
        "avg_returns_d\n",
        "\n",
        "# Este es el retorno diario"
      ],
      "metadata": {
        "id": "lp7Z9YMw7fTA"
      },
      "id": "lp7Z9YMw7fTA",
      "execution_count": null,
      "outputs": []
    },
    {
      "cell_type": "code",
      "source": [
        "avg_returns_a = PG['log_return'].mean() * 250\n",
        "avg_returns_a"
      ],
      "metadata": {
        "id": "Ux2TVIPN7iXT"
      },
      "id": "Ux2TVIPN7iXT",
      "execution_count": null,
      "outputs": []
    },
    {
      "cell_type": "code",
      "source": [
        "print(str(round(avg_returns_a, 5) * 100) + '%')"
      ],
      "metadata": {
        "id": "gwyxrAEc7lr0"
      },
      "id": "gwyxrAEc7lr0",
      "execution_count": null,
      "outputs": []
    }
  ],
  "metadata": {
    "kernelspec": {
      "display_name": "Python 3 (ipykernel)",
      "language": "python",
      "name": "python3"
    },
    "language_info": {
      "codemirror_mode": {
        "name": "ipython",
        "version": 3
      },
      "file_extension": ".py",
      "mimetype": "text/x-python",
      "name": "python",
      "nbconvert_exporter": "python",
      "pygments_lexer": "ipython3",
      "version": "3.7.3"
    },
    "colab": {
      "provenance": []
    }
  },
  "nbformat": 4,
  "nbformat_minor": 5
}